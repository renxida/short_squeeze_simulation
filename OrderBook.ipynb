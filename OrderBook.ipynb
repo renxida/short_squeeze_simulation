{
 "cells": [
  {
   "cell_type": "code",
   "execution_count": 67,
   "metadata": {},
   "outputs": [],
   "source": [
    "import numbers"
   ]
  },
  {
   "cell_type": "code",
   "execution_count": 72,
   "metadata": {},
   "outputs": [],
   "source": [
    "isinstance(\"3.14\", numbers.Number)"
   ]
  },
  {
   "cell_type": "code",
   "execution_count": 74,
   "metadata": {},
   "outputs": [],
   "source": [
    "import heapq"
   ]
  },
  {
   "cell_type": "code",
   "execution_count": 78,
   "metadata": {},
   "outputs": [],
   "source": [
    "from functools import total_ordering\n",
    "\n",
    "@total_ordering # https://portingguide.readthedocs.io/en/latest/comparisons.html\n",
    "class Order:\n",
    "    def __init__(self, price, direction=\"detect\"):\n",
    "        \"\"\"\n",
    "        Create a new Order object.\n",
    "        \n",
    "        No quantities. Each price is atomic.\n",
    "        This may change when we upscale.\n",
    "        \n",
    "        We encode the direction of the order with the sign of the price.\n",
    "        \n",
    "        Since heapq puts the least (most negative) element on top,\n",
    "        we set negative prices to represent buy (bid) orders,\n",
    "        such that the most negative buy order is the one with the highest price,\n",
    "        and set positive prices to represent sell (ask / put) orders,\n",
    "        such that the most negative sell order is the one with the lowest price.\n",
    "        \n",
    "        Best buy order has the highest absolute value (actual price),\n",
    "        and best sell order has the lowest absolute value (actual price).\n",
    "        \"\"\"\n",
    "        if price == 0:\n",
    "                raise ValueError(\"Price cannot be zero\")\n",
    "        if direction == \"detect\":\n",
    "            self.price = price\n",
    "        else:\n",
    "            if price <0:\n",
    "                raise ValueError(\"Price cannot be negative when direction fixed\")\n",
    "            if direction in {\"bid\", \"buy\", \"long\"}:\n",
    "                self.price = -price\n",
    "            elif direction in {\"ask\", \"sell\", \"put\", \"short\"}:\n",
    "                self.price = price\n",
    "            else:\n",
    "                raise ValueError\n",
    "                \n",
    "    @property\n",
    "    def direction(self):\n",
    "        if self.price > 0:\n",
    "            return \"ask\"\n",
    "        elif self.price < 0:\n",
    "            return \"bid\"\n",
    "        else:\n",
    "            raise ValueError(\"Price cannot be zero\")\n",
    "            \n",
    "    def __abs__(self):\n",
    "        return abs(self.price)\n",
    "        \n",
    "    def __repr__(self):\n",
    "        return f\"{type(self).__name__}(price={self.price}, direction='{self.direction}')\"\n",
    "    \n",
    "    def __eq__(self, other):\n",
    "        if isinstance(other, numbers.Number):\n",
    "            # enable comparison with numerical types\n",
    "            return self.price == other\n",
    "        return self.price == other.price\n",
    "    \n",
    "    def __ne__(self, other):\n",
    "        if isinstance(other, numbers.Number):\n",
    "            # enable comparison with numerical types\n",
    "            return self.price != other\n",
    "        return self.price != other.price\n",
    "    \n",
    "    def __lt__(self, other):\n",
    "        if isinstance(other, numbers.Number):\n",
    "            # enable comparison with numerical types\n",
    "            return self.price <= other\n",
    "        return self.price < other.price"
   ]
  },
  {
   "cell_type": "code",
   "execution_count": 124,
   "metadata": {},
   "outputs": [],
   "source": [
    "class OrderBook:\n",
    "    def __init__(self, asks=None, bids=None):\n",
    "        if asks is None:\n",
    "            asks = []\n",
    "        if bids is None:\n",
    "            bids = []\n",
    "        self.asks = asks\n",
    "        self.bids = bids\n",
    "    \n",
    "    def add(self, order):\n",
    "        if order > 0: # ask\n",
    "            heapq.heappush(self.asks, order)\n",
    "        elif order < 0:\n",
    "            heapq.heappush(self.bids, order)\n",
    "        self._execute()\n",
    "            \n",
    "    def fok(self, order):\n",
    "        \"\"\"\n",
    "        Fill or kill an order.\n",
    "        \n",
    "        Args:\n",
    "            order (int or Order): an order to f-o-k\n",
    "        Returns:\n",
    "            True if filled,\n",
    "            False if killed\n",
    "        \"\"\"\n",
    "        raise NotImplementedError\n",
    "    \n",
    "    @property\n",
    "    def top_bid(self):\n",
    "        if len(self.bids) > 0:\n",
    "            return self.bids[0]\n",
    "        else:\n",
    "            return None\n",
    "    \n",
    "    @property\n",
    "    def top_ask(self):\n",
    "        if len(self.asks) > 0:\n",
    "            return self.asks[0]\n",
    "        else:\n",
    "            return None\n",
    "        \n",
    "    @property\n",
    "    def mid_price(self):\n",
    "        best_ask_price = abs(self.asks[0])\n",
    "        best_bid_price = abs(self.bids[0])\n",
    "        return (best_ask + best_bid)/2\n",
    "            \n",
    "    def _record_execution(self,ask, bid):\n",
    "        \"\"\"\n",
    "        Record execution of order.\n",
    "        \"\"\"\n",
    "        pass\n",
    "    \n",
    "    def _execute(self):\n",
    "        \"\"\"\n",
    "        \n",
    "        \"\"\"\n",
    "        while self.top_bid and self.top_ask and abs(self.asks[0]) <= abs(self.bids[0]):\n",
    "            ask = heapq.heappop(self.asks)\n",
    "            bid = heapq.heappop(self.bids)\n",
    "            self._record_execution(ask, bid)\n",
    "            \n",
    "    def __repr__(self):\n",
    "        return f\"OrderBook(asks={self.asks}, bids={self.bids})\""
   ]
  },
  {
   "cell_type": "code",
   "execution_count": 139,
   "metadata": {},
   "outputs": [],
   "source": [
    "b = OrderBook()"
   ]
  },
  {
   "cell_type": "code",
   "execution_count": 145,
   "metadata": {},
   "outputs": [
    {
     "name": "stdout",
     "output_type": "stream",
     "text": [
      "detect\n"
     ]
    }
   ],
   "source": [
    "b.add(Order(3))"
   ]
  },
  {
   "cell_type": "code",
   "execution_count": 146,
   "metadata": {},
   "outputs": [
    {
     "data": {
      "text/plain": [
       "OrderBook(asks=[Order(price=3, direction='ask'), Order(price=3, direction='ask')], bids=[])"
      ]
     },
     "execution_count": 146,
     "metadata": {},
     "output_type": "execute_result"
    }
   ],
   "source": [
    "b"
   ]
  },
  {
   "cell_type": "code",
   "execution_count": 149,
   "metadata": {},
   "outputs": [],
   "source": [
    "b.add(-5)"
   ]
  },
  {
   "cell_type": "code",
   "execution_count": 150,
   "metadata": {},
   "outputs": [
    {
     "data": {
      "text/plain": [
       "OrderBook(asks=[], bids=[])"
      ]
     },
     "execution_count": 150,
     "metadata": {},
     "output_type": "execute_result"
    }
   ],
   "source": [
    "b"
   ]
  }
 ],
 "metadata": {
  "jupytext": {
   "formats": "ipynb,py:percent"
  },
  "kernelspec": {
   "display_name": "Python 3",
   "language": "python",
   "name": "python3"
  },
  "language_info": {
   "codemirror_mode": {
    "name": "ipython",
    "version": 3
   },
   "file_extension": ".py",
   "mimetype": "text/x-python",
   "name": "python",
   "nbconvert_exporter": "python",
   "pygments_lexer": "ipython3",
   "version": "3.7.3"
  },
  "toc": {
   "base_numbering": 1,
   "nav_menu": {},
   "number_sections": true,
   "sideBar": true,
   "skip_h1_title": false,
   "title_cell": "Table of Contents",
   "title_sidebar": "Contents",
   "toc_cell": false,
   "toc_position": {},
   "toc_section_display": true,
   "toc_window_display": false
  }
 },
 "nbformat": 4,
 "nbformat_minor": 2
}
